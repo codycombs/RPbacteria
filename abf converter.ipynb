{
 "cells": [
  {
   "cell_type": "code",
   "execution_count": 1,
   "metadata": {},
   "outputs": [],
   "source": [
    "import numpy as np\n",
    "import pandas as pd\n",
    "import pyabf\n",
    "import matplotlib.pyplot as plt"
   ]
  },
  {
   "cell_type": "code",
   "execution_count": 118,
   "metadata": {},
   "outputs": [],
   "source": [
    "abf = pyabf.ABF('/Users/codycombs/Documents/data/bacteria_rp/raw/pet409/ecoli/abf/raw.abf')"
   ]
  },
  {
   "cell_type": "code",
   "execution_count": 119,
   "metadata": {},
   "outputs": [
    {
     "name": "stdout",
     "output_type": "stream",
     "text": [
      "ABF (v2.9) with 2 channels (nA, V), sampled at 10.0 kHz, containing 1 sweep, having no tags, with a total length of 11.51 minutes, recorded with protocol \"gapfree 60min\".\n"
     ]
    }
   ],
   "source": [
    "print(abf)"
   ]
  },
  {
   "cell_type": "code",
   "execution_count": 120,
   "metadata": {},
   "outputs": [],
   "source": [
    "abf.setSweep(0)\n",
    "i = abf.sweepY\n",
    "v = abf.sweepC\n",
    "t = abf.sweepX"
   ]
  },
  {
   "cell_type": "code",
   "execution_count": 121,
   "metadata": {},
   "outputs": [
    {
     "data": {
      "text/plain": [
       "[<matplotlib.lines.Line2D at 0x7f9a6ef8eeb0>]"
      ]
     },
     "execution_count": 121,
     "metadata": {},
     "output_type": "execute_result"
    },
    {
     "data": {
      "image/png": "[encoded data removed]",
      "text/plain": [
       "<Figure size 432x288 with 1 Axes>"
      ]
     },
     "metadata": {
      "needs_background": "light"
     },
     "output_type": "display_data"
    }
   ],
   "source": [
    "plt.plot(t,i)"
   ]
  },
  {
   "cell_type": "code",
   "execution_count": 124,
   "metadata": {},
   "outputs": [
    {
     "name": "stdout",
     "output_type": "stream",
     "text": [
      "60\n"
     ]
    }
   ],
   "source": [
    "events = pd.read_excel('/Users/codycombs/Documents/data/bacteria_rp/raw/pet409/ecoli/csv/events.xlsx')\n",
    "events = events.drop(events.columns[:4],axis=1)\n",
    "columns = events.columns\n",
    "events = events.rename({columns[0]:'t0',columns[1]:'t1',columns[2]:'delta_t',columns[3]:'area',\n",
    "                        columns[4]:'delta_i',columns[5]:'base_i',columns[6]:'delta_i_i'},axis=1)\n",
    "events = events.dropna()\n",
    "events.t0 = np.around(events.t0/1000.,decimals=4)\n",
    "events.t1 = np.around(events.t1/1000.,decimals=4)\n",
    "print(len(events))"
   ]
  },
  {
   "cell_type": "code",
   "execution_count": 125,
   "metadata": {},
   "outputs": [],
   "source": [
    "args = []\n",
    "i_events = []\n",
    "velocity = []\n",
    "t_events = []\n",
    "\n",
    "for j,row in events.iterrows():\n",
    "    \n",
    "    arg = np.where((t>=row.t0)&(t<=row.t1))[0]\n",
    "    \n",
    "    i_raw = i[arg]\n",
    "    i_clean = np.abs(i_raw)-np.abs(row.base_i)\n",
    "    time = t[arg]\n",
    "    \n",
    "    vel = (12.*10**(-6))/(row.delta_t/1000.)\n",
    "    \n",
    "    i_events.append(i_clean)\n",
    "    t_events.append(time)\n",
    "    velocity.append(vel)\n",
    "    args.append(arg)\n",
    "    \n",
    "events['args'] = args\n",
    "events['i'] = i_events\n",
    "events['t'] = t_events\n",
    "events['vel'] = velocity"
   ]
  },
  {
   "cell_type": "code",
   "execution_count": 126,
   "metadata": {},
   "outputs": [
    {
     "data": {
      "text/plain": [
       "Index(['t0', 't1', 'delta_t', 'area', 'delta_i', 'base_i', 'delta_i_i', 'args',\n",
       "       'i', 't', 'vel'],\n",
       "      dtype='object')"
      ]
     },
     "execution_count": 126,
     "metadata": {},
     "output_type": "execute_result"
    }
   ],
   "source": [
    "events.columns"
   ]
  },
  {
   "cell_type": "code",
   "execution_count": 127,
   "metadata": {},
   "outputs": [],
   "source": [
    "base_path = '/Users/codycombs/Documents/data/bacteria_rp/analysis/ecoli/event_plots/'\n",
    "\n",
    "for j, row in events.iterrows():\n",
    "    \n",
    "    plt.plot(row.t,row.i)\n",
    "    plt.xlabel('Time (s)')\n",
    "    plt.ylabel('Current (nA)')\n",
    "    plt.title('E. Coli. Events')\n",
    "    plt.tight_layout()\n",
    "    plt.savefig(base_path+'ecoli_'+str(j))\n",
    "    plt.close()"
   ]
  },
  {
   "cell_type": "code",
   "execution_count": 128,
   "metadata": {},
   "outputs": [],
   "source": [
    "base_path = '/Users/codycombs/Documents/data/bacteria_rp/analysis/ecoli/dataframe/'\n",
    "events.to_pickle(base_path+'df_processed.pkl')"
   ]
  },
  {
   "cell_type": "code",
   "execution_count": null,
   "metadata": {},
   "outputs": [],
   "source": []
  }
 ],
 "metadata": {
  "kernelspec": {
   "display_name": "Python [conda env:rp-bacteria]",
   "language": "python",
   "name": "conda-env-rp-bacteria-py"
  },
  "language_info": {
   "codemirror_mode": {
    "name": "ipython",
    "version": 3
   },
   "file_extension": ".py",
   "mimetype": "text/x-python",
   "name": "python",
   "nbconvert_exporter": "python",
   "pygments_lexer": "ipython3",
   "version": "3.9.7"
  }
 },
 "nbformat": 4,
 "nbformat_minor": 2
}

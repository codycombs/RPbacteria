{
 "cells": [
  {
   "cell_type": "code",
   "execution_count": 1,
   "metadata": {},
   "outputs": [],
   "source": [
    "import numpy as np\n",
    "import pandas as pd\n",
    "import pyabf\n",
    "import matplotlib.pyplot as plt\n",
    "from scipy import integrate \n",
    "import os"
   ]
  },
  {
   "cell_type": "code",
   "execution_count": 2,
   "metadata": {},
   "outputs": [],
   "source": [
    "csv = pd.read_csv('E://bacteria_data//pores//pore_list.csv')"
   ]
  },
  {
   "cell_type": "code",
   "execution_count": 6,
   "metadata": {},
   "outputs": [
    {
     "name": "stdout",
     "output_type": "stream",
     "text": [
      "E://bacteria_data/pores/pet409/control/10-28-21/0\n",
      "E://bacteria_data/pores/pet409/ecoli/10-28-21/0\n",
      "E://bacteria_data/pores/pet484/control/10-28-21/0\n",
      "E://bacteria_data/pores/pet484/ecoli/10-28-21/0\n",
      "E://bacteria_data/pores/pet2363/control/11-16-21/0\n",
      "E://bacteria_data/pores/pet2363/ecoli/11-30-21/0\n",
      "E://bacteria_data/pores/pet2363/ecoli/11-30-21/1\n",
      "E://bacteria_data/pores/pet2363/ecoli2/11-18-21/0\n",
      "E://bacteria_data/pores/pet2363/staph/12-17-21/0\n",
      "E://bacteria_data/pores/pet2363/staph/12-17-21/2\n",
      "E://bacteria_data/pores/pet2363/staph/12-17-21/3\n",
      "E://bacteria_data/pores/pet2363/staph/12-17-21/4\n",
      "E://bacteria_data/pores/pet2363/staph/12-17-21/5\n",
      "E://bacteria_data/pores/pet2363/staph/1-19-22/3\n",
      "E://bacteria_data/pores/pet2363/ecoli/1-25-22/0\n",
      "E://bacteria_data/pores/pet2250/ecoli/1-25-22/0\n",
      "E://bacteria_data/pores/pet2250/ecoli2/1-25-22/1\n",
      "E://bacteria_data/pores/pet2250/control/12-7-21/1\n",
      "E://bacteria_data/pores/pet2250/control/2-25-22/0\n",
      "E://bacteria_data/pores/pet2363/control/2-25-22/0\n"
     ]
    }
   ],
   "source": [
    "for i,row in csv.iterrows():\n",
    "    \n",
    "    pore = str(row.pore)\n",
    "    particle = str(row.particle)\n",
    "    date = str(row.date)\n",
    "    run = str(row.run)\n",
    "    \n",
    "    base_path = 'E://bacteria_data/pores/'+pore + '/' + particle +'/' + date + '/' + run\n",
    "    \n",
    "    print(base_path)"
   ]
  },
  {
   "cell_type": "code",
   "execution_count": 15,
   "metadata": {},
   "outputs": [],
   "source": [
    "def calc_base_i(_i):\n",
    "    \n",
    "    return (_i[0]+_i[-1])/2\n",
    "\n",
    "def calc_dt(t0,t1):\n",
    "    \n",
    "    return t1-t0\n",
    "\n",
    "def calc_di(_base,_i,_t):\n",
    "    \n",
    "    I1 = integrate.simpson(_i,_t)\n",
    "    \n",
    "    return np.abs(_base)-np.abs(I1/(_t[-1]-_t[0]))\n",
    "\n",
    "def calc_dioi(_di,_base):\n",
    "    \n",
    "    return _di/(np.abs(_base)-np.abs(_di))\n",
    "\n",
    "def calc_vel(_dt,_L = 12.*10**-6):\n",
    "    \n",
    "    return (_L)/(_dt/1000.)"
   ]
  },
  {
   "cell_type": "code",
   "execution_count": 24,
   "metadata": {},
   "outputs": [
    {
     "data": {
      "text/plain": [
       "1"
      ]
     },
     "execution_count": 24,
     "metadata": {},
     "output_type": "execute_result"
    }
   ],
   "source": [
    "a = [1,2,3,4]\n",
    "a[0]"
   ]
  },
  {
   "cell_type": "code",
   "execution_count": 37,
   "metadata": {},
   "outputs": [],
   "source": [
    "pore = 'pet409'\n",
    "particle = 'ecoli'\n",
    "date = '10-28-21'\n",
    "run = '0'\n",
    "\n",
    "base_path = 'D://bacteria_data/pores/'+pore + '/' + particle + '/'+ date + '/' + run + '/' "
   ]
  },
  {
   "cell_type": "code",
   "execution_count": 65,
   "metadata": {},
   "outputs": [
    {
     "data": {
      "image/png": "[encoded data removed]",
      "text/plain": [
       "<Figure size 216x360 with 2 Axes>"
      ]
     },
     "metadata": {
      "needs_background": "light"
     },
     "output_type": "display_data"
    }
   ],
   "source": [
    "fig, (ax1,ax2) = plt.subplots(2,1,figsize=(3,5))\n",
    "abf = pyabf.ABF(base_path +'raw/' + os.listdir(base_path+'raw/')[0])\n",
    "abf.setSweep(0)\n",
    "i = abf.sweepY\n",
    "v = abf.sweepC\n",
    "t = abf.sweepX\n",
    "\n",
    "ax1.plot(t[(t>200)&(t<300)],i[(t>200)&(t<300)],color='black')\n",
    "ax1.set_ylabel('Current (nA)',size=14)\n",
    "ax1.set_xlabel('Time (s)',size=14)\n",
    "ax1.tick_params(axis='both', which='major', labelsize=12)\n",
    "\n",
    "ax2.plot(t[(t>200)&(t<300)],v[(t>200)&(t<300)],color='black')\n",
    "ax2.set_ylabel('Voltage (V)',size=14)\n",
    "ax2.set_xlabel('Time (s)',size=14)\n",
    "ax2.tick_params(axis='both', which='major', labelsize=12)\n",
    "plt.tight_layout()\n",
    "plt.savefig('D://bacteria_data/plots/sample_trace/negEcoli_409.png',dpi=300)"
   ]
  },
  {
   "cell_type": "code",
   "execution_count": 11,
   "metadata": {},
   "outputs": [
    {
     "name": "stdout",
     "output_type": "stream",
     "text": [
      "121\n"
     ]
    }
   ],
   "source": [
    "events = pd.read_excel(base_path+'/events/events.xlsx').iloc[:,:2]\n",
    "#events = events.drop(events.columns[:4],axis=1)\n",
    "#events = events.drop(events.columns[2:],axis=1)\n",
    "columns = events.columns\n",
    "#events = events.rename({columns[0]:'t0',columns[1]:'t1',columns[2]:'delta_t',columns[3]:'area',\n",
    "                        #columns[4]:'delta_i',columns[5]:'base_i',columns[6]:'delta_i_i'},axis=1)\n",
    "events = events.rename({columns[0]:'t0',columns[1]:'t1'},axis=1)\n",
    "events = events.dropna()\n",
    "events.t0 = np.around(events.t0/1000.,decimals=4)\n",
    "events.t1 = np.around(events.t1/1000.,decimals=4)\n",
    "print(len(events))"
   ]
  },
  {
   "cell_type": "code",
   "execution_count": 13,
   "metadata": {},
   "outputs": [],
   "source": [
    "args = []\n",
    "i_events = []\n",
    "velocity = []\n",
    "t_events = []\n",
    "baseline = []\n",
    "delta_t = []\n",
    "delta_i = []\n",
    "delta_i_i = []\n",
    "i_clean = []\n",
    "\n",
    "for j,row in events.iterrows():\n",
    "    \n",
    "    arg = np.where((t>=row.t0)&(t<=row.t1))[0]\n",
    "    time = t[arg]\n",
    "    i_raw = i[arg]\n",
    "    \n",
    "    ib = calc_base_i(i_raw)\n",
    "    dt = calc_dt(row.t0,row.t1)\n",
    "    \n",
    "    di = calc_di(ib,i_raw,time)\n",
    "    dioi = calc_dioi(di,ib)\n",
    "    vel = calc_vel(dt)\n",
    "    \n",
    "    baseline.append(ib)\n",
    "    delta_t.append(dt)\n",
    "    delta_i.append(di)\n",
    "    delta_i_i.append(dioi)\n",
    "    velocity.append(vel)\n",
    "    \n",
    "    args.append(arg)\n",
    "    i_events.append(i_raw)\n",
    "    t_events.append(time)\n",
    "    i_clean.append(np.abs(i_raw)-np.abs(ib))\n",
    "    \n",
    "    \n",
    "\n",
    "events['baseline'] = baseline\n",
    "events['dt'] = delta_t\n",
    "events['di'] = delta_i\n",
    "events['di_i'] = delta_i_i\n",
    "events['vel'] = velocity\n",
    "\n",
    "events['args'] = args\n",
    "events['i'] = i_events\n",
    "events['i_clean'] = i_clean\n",
    "events['t'] = t_events\n",
    "\n",
    "events['voltage'] = np.median(v)\n",
    "events['particle'] = particle\n",
    "events['pore'] = pore\n",
    "events['run'] = run\n",
    "events['date'] = date"
   ]
  },
  {
   "cell_type": "code",
   "execution_count": 12,
   "metadata": {},
   "outputs": [],
   "source": [
    "for j, row in events.iterrows():\n",
    "    \n",
    "    plt.plot(row.t,row.i_clean)\n",
    "    plt.xlabel('Time (s)')\n",
    "    plt.ylabel('Current (nA)')\n",
    "    plt.title(particle)\n",
    "    plt.tight_layout()\n",
    "    plt.savefig(base_path+'event_plots/'+ particle +'_'+str(j))\n",
    "    plt.close()"
   ]
  },
  {
   "cell_type": "code",
   "execution_count": 14,
   "metadata": {},
   "outputs": [],
   "source": [
    "events.to_pickle(base_path+'/df/df_processed.pkl')\n",
    "events.to_csv(base_path+'/csv/calcs.csv')"
   ]
  },
  {
   "cell_type": "code",
   "execution_count": null,
   "metadata": {},
   "outputs": [],
   "source": []
  }
 ],
 "metadata": {
  "kernelspec": {
   "display_name": "Python [conda env:rpbacteria]",
   "language": "python",
   "name": "conda-env-rpbacteria-py"
  },
  "language_info": {
   "codemirror_mode": {
    "name": "ipython",
    "version": 3
   },
   "file_extension": ".py",
   "mimetype": "text/x-python",
   "name": "python",
   "nbconvert_exporter": "python",
   "pygments_lexer": "ipython3",
   "version": "3.9.7"
  }
 },
 "nbformat": 4,
 "nbformat_minor": 2
}

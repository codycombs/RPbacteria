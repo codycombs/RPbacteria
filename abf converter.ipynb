{
 "cells": [
  {
   "cell_type": "code",
   "execution_count": 1,
   "metadata": {},
   "outputs": [],
   "source": [
    "import numpy as np\n",
    "import pandas as pd\n",
    "import pyabf\n",
    "import matplotlib.pyplot as plt"
   ]
  },
  {
   "cell_type": "code",
   "execution_count": 2,
   "metadata": {},
   "outputs": [],
   "source": [
    "abf = pyabf.ABF('/Users/codycombs/Documents/data/bacteria_rp/raw/pet409/control/abf/raw.abf')"
   ]
  },
  {
   "cell_type": "code",
   "execution_count": 3,
   "metadata": {},
   "outputs": [
    {
     "name": "stdout",
     "output_type": "stream",
     "text": [
      "ABF (v2.9) with 2 channels (nA, V), sampled at 10.0 kHz, containing 1 sweep, having no tags, with a total length of 25.01 minutes, recorded with protocol \"gapfree 60min\".\n"
     ]
    }
   ],
   "source": [
    "print(abf)"
   ]
  },
  {
   "cell_type": "code",
   "execution_count": 4,
   "metadata": {},
   "outputs": [],
   "source": [
    "abf.setSweep(0)\n",
    "i = abf.sweepY\n",
    "v = abf.sweepC\n",
    "t = abf.sweepX"
   ]
  },
  {
   "cell_type": "code",
   "execution_count": 5,
   "metadata": {},
   "outputs": [
    {
     "data": {
      "text/plain": [
       "[<matplotlib.lines.Line2D at 0x7fe652897b20>]"
      ]
     },
     "execution_count": 5,
     "metadata": {},
     "output_type": "execute_result"
    },
    {
     "data": {
      "image/png": "[encoded data removed]",
      "text/plain": [
       "<Figure size 432x288 with 1 Axes>"
      ]
     },
     "metadata": {
      "needs_background": "light"
     },
     "output_type": "display_data"
    }
   ],
   "source": [
    "plt.plot(t,i)"
   ]
  },
  {
   "cell_type": "code",
   "execution_count": 19,
   "metadata": {},
   "outputs": [],
   "source": [
    "event_df = pd.read_excel('/Users/codycombs/Documents/data/bacteria_rp/raw/pet409/control/csv/events.xlsx')\n",
    "event_df = event_df.drop(event_df.columns[:4],axis=1)"
   ]
  },
  {
   "cell_type": "code",
   "execution_count": 20,
   "metadata": {},
   "outputs": [
    {
     "data": {
      "text/html": [
       "<div>\n",
       "<style scoped>\n",
       "    .dataframe tbody tr th:only-of-type {\n",
       "        vertical-align: middle;\n",
       "    }\n",
       "\n",
       "    .dataframe tbody tr th {\n",
       "        vertical-align: top;\n",
       "    }\n",
       "\n",
       "    .dataframe thead th {\n",
       "        text-align: right;\n",
       "    }\n",
       "</style>\n",
       "<table border=\"1\" class=\"dataframe\">\n",
       "  <thead>\n",
       "    <tr style=\"text-align: right;\">\n",
       "      <th></th>\n",
       "      <th>Unnamed: 4</th>\n",
       "      <th>Unnamed: 5</th>\n",
       "      <th>Time Difference (ms)</th>\n",
       "      <th>Area (nA*ms)</th>\n",
       "      <th>ΔI</th>\n",
       "      <th>Baseline Current (nA)</th>\n",
       "      <th>ΔI/I</th>\n",
       "    </tr>\n",
       "  </thead>\n",
       "  <tbody>\n",
       "    <tr>\n",
       "      <th>0</th>\n",
       "      <td>2.232300e+03</td>\n",
       "      <td>2.303700e+03</td>\n",
       "      <td>71.400146</td>\n",
       "      <td>10.538414</td>\n",
       "      <td>0.147597</td>\n",
       "      <td>24.127</td>\n",
       "      <td>0.006117</td>\n",
       "    </tr>\n",
       "    <tr>\n",
       "      <th>1</th>\n",
       "      <td>5.897700e+03</td>\n",
       "      <td>5.961200e+03</td>\n",
       "      <td>63.500000</td>\n",
       "      <td>8.816669</td>\n",
       "      <td>0.138845</td>\n",
       "      <td>24.152</td>\n",
       "      <td>0.005749</td>\n",
       "    </tr>\n",
       "    <tr>\n",
       "      <th>2</th>\n",
       "      <td>1.035290e+04</td>\n",
       "      <td>1.042480e+04</td>\n",
       "      <td>71.900391</td>\n",
       "      <td>10.196951</td>\n",
       "      <td>0.141821</td>\n",
       "      <td>24.152</td>\n",
       "      <td>0.005872</td>\n",
       "    </tr>\n",
       "    <tr>\n",
       "      <th>3</th>\n",
       "      <td>1.410460e+04</td>\n",
       "      <td>1.417620e+04</td>\n",
       "      <td>71.599609</td>\n",
       "      <td>11.046460</td>\n",
       "      <td>0.154281</td>\n",
       "      <td>24.115</td>\n",
       "      <td>0.006398</td>\n",
       "    </tr>\n",
       "    <tr>\n",
       "      <th>4</th>\n",
       "      <td>1.707770e+04</td>\n",
       "      <td>1.715030e+04</td>\n",
       "      <td>72.599609</td>\n",
       "      <td>11.232037</td>\n",
       "      <td>0.154712</td>\n",
       "      <td>24.139</td>\n",
       "      <td>0.006409</td>\n",
       "    </tr>\n",
       "    <tr>\n",
       "      <th>...</th>\n",
       "      <td>...</td>\n",
       "      <td>...</td>\n",
       "      <td>...</td>\n",
       "      <td>...</td>\n",
       "      <td>...</td>\n",
       "      <td>...</td>\n",
       "      <td>...</td>\n",
       "    </tr>\n",
       "    <tr>\n",
       "      <th>203</th>\n",
       "      <td>1.478585e+06</td>\n",
       "      <td>1.478702e+06</td>\n",
       "      <td>117.000000</td>\n",
       "      <td>18.146936</td>\n",
       "      <td>0.155102</td>\n",
       "      <td>23.920</td>\n",
       "      <td>0.006484</td>\n",
       "    </tr>\n",
       "    <tr>\n",
       "      <th>204</th>\n",
       "      <td>1.494157e+06</td>\n",
       "      <td>1.494282e+06</td>\n",
       "      <td>125.125000</td>\n",
       "      <td>19.871384</td>\n",
       "      <td>0.158812</td>\n",
       "      <td>23.889</td>\n",
       "      <td>0.006648</td>\n",
       "    </tr>\n",
       "    <tr>\n",
       "      <th>205</th>\n",
       "      <td>1.500011e+06</td>\n",
       "      <td>1.500142e+06</td>\n",
       "      <td>131.375000</td>\n",
       "      <td>20.601046</td>\n",
       "      <td>0.156811</td>\n",
       "      <td>23.895</td>\n",
       "      <td>0.006563</td>\n",
       "    </tr>\n",
       "    <tr>\n",
       "      <th>206</th>\n",
       "      <td>NaN</td>\n",
       "      <td>NaN</td>\n",
       "      <td>94.073051</td>\n",
       "      <td>NaN</td>\n",
       "      <td>0.151597</td>\n",
       "      <td>NaN</td>\n",
       "      <td>0.006311</td>\n",
       "    </tr>\n",
       "    <tr>\n",
       "      <th>207</th>\n",
       "      <td>NaN</td>\n",
       "      <td>NaN</td>\n",
       "      <td>16.203742</td>\n",
       "      <td>NaN</td>\n",
       "      <td>0.006349</td>\n",
       "      <td>NaN</td>\n",
       "      <td>0.000269</td>\n",
       "    </tr>\n",
       "  </tbody>\n",
       "</table>\n",
       "<p>208 rows × 7 columns</p>\n",
       "</div>"
      ],
      "text/plain": [
       "       Unnamed: 4    Unnamed: 5  Time Difference (ms)  Area (nA*ms)        ΔI  \\\n",
       "0    2.232300e+03  2.303700e+03             71.400146     10.538414  0.147597   \n",
       "1    5.897700e+03  5.961200e+03             63.500000      8.816669  0.138845   \n",
       "2    1.035290e+04  1.042480e+04             71.900391     10.196951  0.141821   \n",
       "3    1.410460e+04  1.417620e+04             71.599609     11.046460  0.154281   \n",
       "4    1.707770e+04  1.715030e+04             72.599609     11.232037  0.154712   \n",
       "..            ...           ...                   ...           ...       ...   \n",
       "203  1.478585e+06  1.478702e+06            117.000000     18.146936  0.155102   \n",
       "204  1.494157e+06  1.494282e+06            125.125000     19.871384  0.158812   \n",
       "205  1.500011e+06  1.500142e+06            131.375000     20.601046  0.156811   \n",
       "206           NaN           NaN             94.073051           NaN  0.151597   \n",
       "207           NaN           NaN             16.203742           NaN  0.006349   \n",
       "\n",
       "     Baseline Current (nA)      ΔI/I  \n",
       "0                   24.127  0.006117  \n",
       "1                   24.152  0.005749  \n",
       "2                   24.152  0.005872  \n",
       "3                   24.115  0.006398  \n",
       "4                   24.139  0.006409  \n",
       "..                     ...       ...  \n",
       "203                 23.920  0.006484  \n",
       "204                 23.889  0.006648  \n",
       "205                 23.895  0.006563  \n",
       "206                    NaN  0.006311  \n",
       "207                    NaN  0.000269  \n",
       "\n",
       "[208 rows x 7 columns]"
      ]
     },
     "execution_count": 20,
     "metadata": {},
     "output_type": "execute_result"
    }
   ],
   "source": [
    "event_df"
   ]
  },
  {
   "cell_type": "code",
   "execution_count": null,
   "metadata": {},
   "outputs": [],
   "source": []
  }
 ],
 "metadata": {
  "kernelspec": {
   "display_name": "Python [conda env:rp-bacteria]",
   "language": "python",
   "name": "conda-env-rp-bacteria-py"
  },
  "language_info": {
   "codemirror_mode": {
    "name": "ipython",
    "version": 3
   },
   "file_extension": ".py",
   "mimetype": "text/x-python",
   "name": "python",
   "nbconvert_exporter": "python",
   "pygments_lexer": "ipython3",
   "version": "3.9.7"
  }
 },
 "nbformat": 4,
 "nbformat_minor": 2
}

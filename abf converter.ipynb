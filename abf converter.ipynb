{
 "cells": [
  {
   "cell_type": "code",
   "execution_count": 97,
   "metadata": {},
   "outputs": [],
   "source": [
    "import numpy as np\n",
    "import pandas as pd\n",
    "import pyabf\n",
    "import matplotlib.pyplot as plt\n",
    "from scipy import integrate "
   ]
  },
  {
   "cell_type": "code",
   "execution_count": 115,
   "metadata": {},
   "outputs": [],
   "source": [
    "def calc_base_i(_i):\n",
    "    \n",
    "    return (_i[0]+_i[-1])/2\n",
    "\n",
    "def calc_dt(t0,t1):\n",
    "    \n",
    "    return t1-t0\n",
    "\n",
    "def calc_di(_base,_i,_t):\n",
    "    \n",
    "\n",
    "    I1 = integrate.simpson(_i,_t)\n",
    "    \n",
    "    return np.abs(_base)-np.abs(I1/(_t[-1]-_t[0]))\n",
    "\n",
    "def calc_dioi(_di,_base):\n",
    "    \n",
    "    return _di/(np.abs(_base)-np.abs(_di))\n",
    "\n",
    "def calc_vel(_dt,_L = 12.*10**-6):\n",
    "    \n",
    "    return (_L)/(_dt/1000.)"
   ]
  },
  {
   "cell_type": "code",
   "execution_count": 153,
   "metadata": {},
   "outputs": [],
   "source": [
    "pore = 'pet2363'\n",
    "particle = 'ecoli2'\n",
    "\n",
    "\n",
    "raw_base = 'D://bacteria_data/raw/'+pore + '/' + particle +'/'\n",
    "an_base = 'D://bacteria_data/analysis/'+pore + '/' + particle +'/'"
   ]
  },
  {
   "cell_type": "code",
   "execution_count": 160,
   "metadata": {},
   "outputs": [
    {
     "data": {
      "image/png": "[encoded data removed]",
      "text/plain": [
       "<Figure size 432x288 with 1 Axes>"
      ]
     },
     "metadata": {
      "needs_background": "light"
     },
     "output_type": "display_data"
    }
   ],
   "source": [
    "abf = pyabf.ABF(raw_base+'/raw/raw.abf')\n",
    "abf.setSweep(0)\n",
    "i = abf.sweepY\n",
    "v = abf.sweepC\n",
    "t = abf.sweepX\n",
    "\n",
    "plt.plot(t,i)"
   ]
  },
  {
   "cell_type": "code",
   "execution_count": 155,
   "metadata": {},
   "outputs": [
    {
     "name": "stdout",
     "output_type": "stream",
     "text": [
      "120\n"
     ]
    }
   ],
   "source": [
    "events = pd.read_excel(raw_base+'/events/events.xlsx')\n",
    "events = events.drop(events.columns[:4],axis=1)\n",
    "events = events.drop(events.columns[2:],axis=1)\n",
    "columns = events.columns\n",
    "#events = events.rename({columns[0]:'t0',columns[1]:'t1',columns[2]:'delta_t',columns[3]:'area',\n",
    "                        #columns[4]:'delta_i',columns[5]:'base_i',columns[6]:'delta_i_i'},axis=1)\n",
    "events = events.rename({columns[0]:'t0',columns[1]:'t1'},axis=1)\n",
    "events = events.dropna()\n",
    "events.t0 = np.around(events.t0/1000.,decimals=4)\n",
    "events.t1 = np.around(events.t1/1000.,decimals=4)\n",
    "print(len(events))"
   ]
  },
  {
   "cell_type": "code",
   "execution_count": 156,
   "metadata": {},
   "outputs": [],
   "source": [
    "args = []\n",
    "i_events = []\n",
    "velocity = []\n",
    "t_events = []\n",
    "baseline = []\n",
    "delta_t = []\n",
    "delta_i = []\n",
    "delta_i_i = []\n",
    "i_clean = []\n",
    "\n",
    "for j,row in events.iterrows():\n",
    "    \n",
    "    arg = np.where((t>=row.t0)&(t<=row.t1))[0]\n",
    "    time = t[arg]\n",
    "    i_raw = i[arg]\n",
    "    \n",
    "    ib = calc_base_i(i_raw)\n",
    "    dt = calc_dt(row.t0,row.t1)\n",
    "    \n",
    "    di = calc_di(ib,i_raw,time)\n",
    "    dioi = calc_dioi(di,ib)\n",
    "    vel = calc_vel(dt)\n",
    "    \n",
    "    baseline.append(ib)\n",
    "    delta_t.append(dt)\n",
    "    delta_i.append(di)\n",
    "    delta_i_i.append(dioi)\n",
    "    velocity.append(vel)\n",
    "    \n",
    "    args.append(arg)\n",
    "    i_events.append(i_raw)\n",
    "    t_events.append(time)\n",
    "    i_clean.append(np.abs(i_raw)-np.abs(ib))\n",
    "    \n",
    "    \n",
    "\n",
    "events['baseline'] = baseline\n",
    "events['dt'] = delta_t\n",
    "events['di'] = delta_i\n",
    "events['di_i'] = delta_i_i\n",
    "events['vel'] = velocity\n",
    "\n",
    "events['args'] = args\n",
    "events['i'] = i_events\n",
    "events['i_clean'] = i_clean\n",
    "events['t'] = t_events\n",
    "\n",
    "events['voltage'] = np.median(v)\n",
    "events['particle'] = particle\n",
    "events['pore'] = pore"
   ]
  },
  {
   "cell_type": "code",
   "execution_count": 157,
   "metadata": {},
   "outputs": [
    {
     "data": {
      "text/plain": [
       "t0                                                    13.6709\n",
       "t1                                                    13.8368\n",
       "baseline                                            142.29126\n",
       "dt                                                     0.1659\n",
       "di                                                   3.413631\n",
       "di_i                                                  0.02458\n",
       "vel                                                  0.072333\n",
       "args        [136709, 136710, 136711, 136712, 136713, 13671...\n",
       "i           [141.99829, 141.99219, 141.97998, 141.97998, 1...\n",
       "i_clean     [-0.29296875, -0.29907227, -0.3112793, -0.3112...\n",
       "t           [13.670900000000001, 13.671000000000001, 13.67...\n",
       "voltage                                                   0.2\n",
       "particle                                               ecoli2\n",
       "pore                                                  pet2363\n",
       "Name: 0, dtype: object"
      ]
     },
     "execution_count": 157,
     "metadata": {},
     "output_type": "execute_result"
    }
   ],
   "source": [
    "events.iloc[0]"
   ]
  },
  {
   "cell_type": "code",
   "execution_count": 158,
   "metadata": {},
   "outputs": [
    {
     "data": {
      "text/plain": [
       "[<matplotlib.lines.Line2D at 0x13be3132df0>]"
      ]
     },
     "execution_count": 158,
     "metadata": {},
     "output_type": "execute_result"
    },
    {
     "data": {
      "image/png": "[encoded data removed]",
      "text/plain": [
       "<Figure size 432x288 with 1 Axes>"
      ]
     },
     "metadata": {
      "needs_background": "light"
     },
     "output_type": "display_data"
    }
   ],
   "source": [
    "plt.plot(events.iloc[8].t,events.iloc[8].i_clean)"
   ]
  },
  {
   "cell_type": "code",
   "execution_count": 95,
   "metadata": {},
   "outputs": [],
   "source": [
    "for j, row in events.iterrows():\n",
    "    \n",
    "    plt.plot(row.t,row.i_clean)\n",
    "    plt.xlabel('Time (s)')\n",
    "    plt.ylabel('Current (nA)')\n",
    "    plt.title(particle)\n",
    "    plt.tight_layout()\n",
    "    plt.savefig(an_base+'event_plots/'+ particle +'_'+str(j))\n",
    "    plt.close()"
   ]
  },
  {
   "cell_type": "code",
   "execution_count": 159,
   "metadata": {},
   "outputs": [],
   "source": [
    "events.to_pickle(an_base+'/dataframe/df_processed.pkl')"
   ]
  },
  {
   "cell_type": "code",
   "execution_count": null,
   "metadata": {},
   "outputs": [],
   "source": []
  }
 ],
 "metadata": {
  "kernelspec": {
   "display_name": "Python [conda env:rpbacteria]",
   "language": "python",
   "name": "conda-env-rpbacteria-py"
  },
  "language_info": {
   "codemirror_mode": {
    "name": "ipython",
    "version": 3
   },
   "file_extension": ".py",
   "mimetype": "text/x-python",
   "name": "python",
   "nbconvert_exporter": "python",
   "pygments_lexer": "ipython3",
   "version": "3.9.7"
  }
 },
 "nbformat": 4,
 "nbformat_minor": 2
}
